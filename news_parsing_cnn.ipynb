{
 "cells": [
  {
   "cell_type": "code",
   "execution_count": 1,
   "id": "501f0fc9-8469-48d7-999c-63041f4e192d",
   "metadata": {},
   "outputs": [],
   "source": [
    "from selenium import webdriver\n",
    "from selenium.webdriver.common.by import By\n",
    "import time\n",
    "from tqdm import tqdm\n",
    "import pandas as pd\n",
    "import re"
   ]
  },
  {
   "cell_type": "code",
   "execution_count": 2,
   "id": "d2fa9ea0-d996-434b-a3d9-0e77fcf0e897",
   "metadata": {},
   "outputs": [],
   "source": [
    "def preprocess_text(text):\n",
    "    tt = '© 2025 Cable News Network. A Warner Bros. Discovery Company. All Rights Reserved.  CNN Sans ™ & © 2016 Cable News Network. For privacy options, please see our privacy policy:https://www.cnn.com/privacy.'\n",
    "    text = text.replace(tt, '')\n",
    "    text = text.replace('\\xa0', ' ')\n",
    "    text = re.sub(r'\\s+', ' ', text).strip()\n",
    "\n",
    "    return text\n",
    "\n",
    "def extract_date(url):\n",
    "    match = re.search(r'/(\\d{4})/(\\d{2})/(\\d{2})/', url)\n",
    "    if match:\n",
    "        year, month, day = match.groups()\n",
    "        return f\"{year}-{month}-{day}\"\n",
    "    return None"
   ]
  },
  {
   "cell_type": "code",
   "execution_count": null,
   "id": "abc59bb8-bc2a-4bde-97a0-1122a0b2ecc3",
   "metadata": {},
   "outputs": [],
   "source": [
    "def parse_news(start, end):\n",
    "    search_urls = []\n",
    "    news_urls = []\n",
    "    texts = []\n",
    "    page = start\n",
    "    offset = start * 10\n",
    "\n",
    "    while page <= end: \n",
    "        search_urls.append(f'https://edition.cnn.com/search?q=israel+hamas&from={offset}&size=10&page={page}&sort=relevance&types=article&section=')\n",
    "        page += 1\n",
    "        offset += 10\n",
    "\n",
    "    chrome_options = webdriver.SafariOptions()\n",
    "    chrome_options.add_argument(\"--headless\")  \n",
    "    \n",
    "    driver = webdriver.Safari(options=chrome_options)\n",
    "\n",
    "    try:\n",
    "        for search_url in tqdm(search_urls):\n",
    "            driver.get(search_url)\n",
    "            time.sleep(1)\n",
    "        \n",
    "            links = driver.find_elements(By.XPATH, '//div[contains(@class, \"card\")]//a')\n",
    "            links_set = set(link.get_attribute('href') for link in links)\n",
    "            \n",
    "            for url in links_set:\n",
    "                try:\n",
    "                    news_urls.append(url)\n",
    "                    driver.get(url)\n",
    "                    time.sleep(1)\n",
    "                    \n",
    "                    try:\n",
    "                       paragraphs = driver.find_elements(By.TAG_NAME, \"p\")\n",
    "                       article_text = \" \".join([p.text for p in paragraphs])\n",
    "                       texts.append(article_text)\n",
    "                    except Exception as e:\n",
    "                        print(e)\n",
    "                except Exception as e:\n",
    "                    print(f\"Error processing URL {url}: {e}\")\n",
    "    finally:\n",
    "        driver.quit()\n",
    "\n",
    "    # create df \n",
    "    df = pd.DataFrame({\n",
    "        'article_text': texts,\n",
    "        'article_url': news_urls\n",
    "    })\n",
    "\n",
    "    return df"
   ]
  },
  {
   "cell_type": "code",
   "execution_count": null,
   "id": "5d7e49c3-f988-4cba-a013-c97643e5e72f",
   "metadata": {},
   "outputs": [],
   "source": [
    "df = parse_news(151, 200)"
   ]
  },
  {
   "cell_type": "code",
   "execution_count": 40,
   "id": "005151d8-13ed-4a2f-a5a3-b1250dc720c7",
   "metadata": {},
   "outputs": [],
   "source": [
    "df['text'] = df['article_text'].apply(preprocess_text) \n",
    "df['date'] = df['article_url'].apply(extract_date)"
   ]
  },
  {
   "cell_type": "code",
   "execution_count": null,
   "id": "82cef713-d0b8-44b0-a602-1ec2edaae69b",
   "metadata": {},
   "outputs": [],
   "source": [
    "df.to_csv('cnn_news.csv')"
   ]
  }
 ],
 "metadata": {
  "kernelspec": {
   "display_name": "Python 3 (ipykernel)",
   "language": "python",
   "name": "python3"
  },
  "language_info": {
   "codemirror_mode": {
    "name": "ipython",
    "version": 3
   },
   "file_extension": ".py",
   "mimetype": "text/x-python",
   "name": "python",
   "nbconvert_exporter": "python",
   "pygments_lexer": "ipython3",
   "version": "3.13.1"
  }
 },
 "nbformat": 4,
 "nbformat_minor": 5
}
